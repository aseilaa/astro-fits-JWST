{
 "cells": [
  {
   "cell_type": "markdown",
   "id": "62a21fd9-d853-49bb-b301-e30c1f71df22",
   "metadata": {},
   "source": [
    "STEP1 Read Fits File"
   ]
  },
  {
   "cell_type": "code",
   "execution_count": 1,
   "id": "50a49863-338f-4755-bb48-6b62de581434",
   "metadata": {},
   "outputs": [],
   "source": [
    "from astropy.io import fits #fit format\n",
    "jwst=fits.open('/Users/aseilaa/astro-fits-processing/data/jw02732/level_2/jw02732001004_02105_00002_nrcb3_cal.fits.gz')\n",
    "#get information about the jwst"
   ]
  },
  {
   "cell_type": "code",
   "execution_count": null,
   "id": "fb8ae900-b76e-4c79-91f9-39b864250902",
   "metadata": {},
   "outputs": [],
   "source": []
  }
 ],
 "metadata": {
  "kernelspec": {
   "display_name": "Python 3 (ipykernel)",
   "language": "python",
   "name": "python3"
  },
  "language_info": {
   "codemirror_mode": {
    "name": "ipython",
    "version": 3
   },
   "file_extension": ".py",
   "mimetype": "text/x-python",
   "name": "python",
   "nbconvert_exporter": "python",
   "pygments_lexer": "ipython3",
   "version": "3.12.7"
  }
 },
 "nbformat": 4,
 "nbformat_minor": 5
}
